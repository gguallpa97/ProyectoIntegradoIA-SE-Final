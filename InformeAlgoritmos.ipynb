{
 "cells": [
  {
   "cell_type": "markdown",
   "metadata": {},
   "source": [
    "# UNIVERSIDAD POLITÉCNICA SALESIANA \n",
    "# El VECINO - CUENCA\n",
    "\n",
    "**Estudiantes:**Jorge Arévalo,Gustavo Guallpa\n",
    "\n",
    "**Profesor:** Ing. Diego Quisi\n",
    "\n",
    "**Asignatura:** Inteligencia Artificial + Sistema Experto\n",
    " \n",
    "**Tema:** Informe de los Algoritmos Desarrollados en el proyecto Integrador."
   ]
  },
  {
   "cell_type": "markdown",
   "metadata": {},
   "source": [
    "## INTRODUCCION\n",
    "Al momento de nuestra elección sobre que algoritmos vamos a utilizar depende en gran medida del caso de uso que le vayamos a dar, para ello puede influir elementos como:\n",
    "\n",
    "**Velocidad**->Velocidad del algoritmo\n",
    "\n",
    "**Hardware y recursos**\n",
    "\n",
    "**Requisitos de precisión**\n",
    "\n",
    "**Patrones de acceso**-> número de consultas\n"
   ]
  },
  {
   "cell_type": "markdown",
   "metadata": {},
   "source": [
    "### •\t                                                  SECCION 1 “ALGORTIMO DE CENTRALIDAD”\n",
    "### CERCANÍA CENTRALIDAD\n",
    "\n",
    "### Introducción\n",
    "\n",
    "Forma de detectar nodos que pueden difundir información de manera muy eficiente a través de un gráfico.\n",
    "La centralidad de proximidad de un nodo mide su lejanía promedio (distancia inversa) a todos los demás nodos. Los nodos con un alto puntaje de cercanía tienen las distancias más cortas a todos los demás nodos.\n",
    "La función es calcular la suma de sus distancias a todos los demás nodos, basando en el cálculo de las rutas más cortas.\n",
    "\n",
    "**Formula:**\n",
    "\n",
    "raw closeness centrality(node) = 1 / sum(distance from node to all other nodes)\n",
    "\n",
    "La fórmula para la centralidad de cercanía normalizada es la siguiente:\n",
    "\n",
    "normalized closeness centrality(node) = (number of nodes - 1) / sum(distance from node to all other nodes)\n",
    "\n",
    "### Descripción del algoritmo\n",
    "\n",
    "El algoritmo calcula la suma de sus distancias a todos los demás nodos, la suma resultante se invierte y determina la puntuación de proximidad para ese nodo. Es importante destacar que, a pesar de ser unos algoritmos altamente funcionales, estos funcionan de forma óptima en grafos conectados, es decir, que su aplicación en grafos no conectados puede arrojarnos algunos errores de análisis. Pudiésemos obtener una distancia infinita entre dos nodos en componentes conectados por separado. Al ocurrir esto se estaría otorgando una puntuación de centralidad de cercanía infinita cuando hagamos la sumatoria de las distancias de un vértice determinado.   \n",
    "\n",
    "#### \"Centralidad y flujo de red\" de Stephen P. Borgatti.\n",
    "\n",
    "Relación con medidas de centralidad\n",
    "\n",
    "El propósito de esta sección es revisar algunas medidas bien conocidas de centralidad parapara ver qué tipos de suposiciones de flujo hacen. Empiezo con cercanía centralidad. Según lo definido por Freeman (1979), la centralidad de cercanía de un nodo es la suma de la teoría de gráficos distancias de todos los demás nodos, donde la distancia de un nodo a otro se define como la longitud (en enlaces) de la ruta más corta de uno a otro.\n",
    "\n",
    "La centralidad se define como la proporción de veces que un nodo i necesita un nodo k (cuya centralidad es medido) para alcanzar un nodo j a través del camino más corto. Específicamente, si gij es el número de rutas geodésicas de i a j, y gikj es el número de estas geodésicas que pasan a través del nodo k, entonces la centralidad de intermediación del nodo k viene dada por:\n",
    "<img src=\"img/img1.PNG\">\n",
    "\n",
    "La centralidad del vector propio se define como el vector propio principal de la matriz de adyacencia que define la red. La ecuación definitoria de un vector propio es:\n",
    "<img src=\"img/img2.PNG\">\n",
    "\n",
    "donde A es la matriz de adyacencia de la gráfica, λ es una constante (el valor propio) y v es el vector propio\n",
    "\n",
    "#### “Una comparación de medidas de centralidad para la extracción de frases clave basadas en gráficos\" \n",
    "\n",
    "**Medidas de centralidad** \n",
    "\n",
    "Una vez que se construye la palabra gráfica, centralidad las medidas se calculan para asignar una puntuación a cada nodo. Sea G = (V, E) un gráfico con un conjunto de vértices (nodos) V y un conjunto de aristas E. Comenzando con grado de centralidad, esta sección describe los modelos de clasificación que utilizaremos en este estudio. La centralidad de grado se define como el número de bordes incidentes sobre un nodo.\n",
    "<img src=\"img/img3.PNG\">\n",
    "\n",
    "**La centralidad de proximidad** \n",
    "\n",
    "Se define como la inversa de lejanía, es decir, la suma de las distancias más cortas entre un nodo y todos los demás nodos. Dejar distancia (Vi, Vj) sea la distancia más corta entre los nodos Vi y Vj (en nuestro caso, calculada utilizando pesos de borde invertidos para usar información de coincidencia), la centralidad de proximidad de un nodo Vi es dada por:\n",
    "<img src=\"img/img4.PNG\">\n",
    "\n",
    "### Ejemplo Real\n",
    "\n",
    "**\"Algoritmos Paralelos para Evaluar Índices de Centralidad en Redes del Mundo Real\"**\n",
    "\n",
    "Estos algoritmos se han optimizado para explotar las propiedades típicamente observadas en las redes a gran escala del mundo real, como la baja distancia promedio, la alta densidad local y las distribuciones de grados de ley de potencia de cola pesada. \n",
    "\n",
    "**Cita**\n",
    "\n",
    "DA Bader y K. Madduri, \"Algoritmos paralelos para evaluar índices de centralidad en redes del mundo real\", Conferencia Internacional 2006 sobre Procesamiento Paralelo (ICPP'06) , Columbus, OH, 2006, pp. 539-550, doi: 10.1109 / ICPP .2006.57.\n",
    "\n",
    "### Proceso (Paso a paso del uso del algoritmo)\n",
    "\n",
    "1.- Cuenta la lejanía en cada devolución de llamada msbfs\n",
    "\n",
    "2.- dividir por N-1\n",
    "\n",
    "N = 5 // número de nodos\n",
    "\n",
    "k = N-1 = 4 // utilizado para la normalización\n"
   ]
  },
  {
   "cell_type": "raw",
   "metadata": {},
   "source": [
    "    ABCDE \n",
    " - | ----------------------------- \n",
    " A | 0 1 2 3 4 // distancia entre cada par de nodos \n",
    " B | 1 0 1 2 3 \n",
    " C | 2 1 0 1 2 \n",
    " D | 3 2 1 0 1 \n",
    " E | 4 3 2 1 0 \n",
    " - | ----------------------------- \n",
    " S | 10 7 6 7 10 // centralidad de proximidad cruda \n",
    " == | ============================= \n",
    "k / S | 0.4 0.57 0.67 0.57 0.4 // centralidad de cercanía normalizada"
   ]
  },
  {
   "cell_type": "markdown",
   "metadata": {},
   "source": [
    "### Ejemplo Sencillo\n",
    "\n",
    "Para usar el algoritmo en este caso debemos crear los nodos de las cuales para crear los nodos se usa el CREATE. \n",
    "\n",
    "Para asociar entre nodos se usa el LINK. \n",
    "\n",
    "Lo siguiente creará un gráfico de muestra:"
   ]
  },
  {
   "cell_type": "raw",
   "metadata": {},
   "source": [
    "CREATE (a:Node{id:\"A\"}),\n",
    "       (b:Node{id:\"B\"}),\n",
    "       (c:Node{id:\"C\"}),\n",
    "       (d:Node{id:\"D\"}),\n",
    "       (e:Node{id:\"E\"}),\n",
    "       (a)-[:LINK]->(b),\n",
    "       (b)-[:LINK]->(a),\n",
    "       (b)-[:LINK]->(c),\n",
    "       (c)-[:LINK]->(b),\n",
    "       (c)-[:LINK]->(d),\n",
    "       (d)-[:LINK]->(c),\n",
    "       (d)-[:LINK]->(e),\n",
    "       (e)-[:LINK]->(d);"
   ]
  },
  {
   "cell_type": "markdown",
   "metadata": {},
   "source": [
    "Una ves que hayamos ejecutado la creación y asociación de nodos vamos a mostrar el resultado. \n",
    "    \n",
    "Lo siguiente ejecutará el algoritmo y los resultados de la transmisión:\n",
    "\n",
    "<img src=\"img/img4.PNg\">"
   ]
  },
  {
   "cell_type": "raw",
   "metadata": {},
   "source": [
    "CALL gds.alpha.closeness.stream({\n",
    "  nodeProjection: 'Node',\n",
    "  relationshipProjection: 'LINK'\n",
    "})\n",
    "YIELD nodeId, centrality\n",
    "RETURN gds.util.asNode(nodeId).name AS user, centrality\n",
    "ORDER BY centrality DESC"
   ]
  },
  {
   "cell_type": "markdown",
   "metadata": {},
   "source": [
    "Lo siguiente ejecutará el algoritmo y los resultados de la transmisión:\n",
    "\n",
    "<img src=\"img/img9.PNG\">"
   ]
  },
  {
   "cell_type": "markdown",
   "metadata": {},
   "source": [
    "###  • Ejemplificacion usando datos reales"
   ]
  },
  {
   "cell_type": "code",
   "execution_count": 24,
   "metadata": {},
   "outputs": [
    {
     "data": {
      "text/plain": [
       "'Arroz marinero'"
      ]
     },
     "execution_count": 24,
     "metadata": {},
     "output_type": "execute_result"
    }
   ],
   "source": [
    "from neo4j import GraphDatabase\n",
    "\n",
    "uri = \"bolt://35.184.105.166:7687\"\n",
    "driver = GraphDatabase.driver(uri, auth=(\"neo4j\", \"admin\"),encrypted=False)\n",
    "\n",
    "result=[]\n",
    "parques = []\n",
    "centralidad = []\n",
    "def get_mo(tx):\n",
    "    result = tx.run(\"CALL gds.alpha.closeness.stream({nodeProjection: 'Plato', \"\n",
    "                    \"relationshipProjection: 'LINK' })\"\n",
    "                    \"YIELD nodeId, centrality \"\n",
    "                    \"RETURN gds.util.asNode(nodeId).name AS user, centrality \"\n",
    "                    \"ORDER BY centrality DESC\")\n",
    "    for record in result:\n",
    "        #print(record)\n",
    "        parques.append(record[\"user\"])\n",
    "        centralidad.append(record[\"centrality\"])\n",
    "\n",
    "def recibir():\n",
    "    with driver.session() as session:\n",
    "        ciudades = session.read_transaction(get_mo)\n",
    "        #print(\"Nodo -> Centralidad\")\n",
    "        for i in range(len(parques)):\n",
    "            result=parques[10]\n",
    "    return result\n",
    "\n",
    "recibir()"
   ]
  },
  {
   "cell_type": "markdown",
   "metadata": {},
   "source": [
    "###  • Resultados y analisis.\n",
    "Para dar solución al problema se tiene en la base de Neo4j registro de los lugares con el plato de comida más comercial, para ello se usa el algoritmo de centralidad por cercanía la cual devuelve el nombre del plato con mayor peso de centralidad de todos los otros platos. "
   ]
  },
  {
   "cell_type": "markdown",
   "metadata": {},
   "source": [
    "###  • Mejoras y recomendaciones(Material adicional o refuerzo del algoritmo).\n",
    "Como una recomendacion general en este algoritmo los podemos emplear para que un futuro con una mejor consulta poder hacer un algoritmo se pueda inclusive poder utilizar para la recomendacion en lugares donde la gente acude con su familia a realizar la compra de viveres , entonces para conocer el plato más cotizado(cotizado lo que esta admirado, elogiado, apreciado y considerado en las cualidades, características y su índole de manera favorablemente) por listado de víveres."
   ]
  },
  {
   "cell_type": "markdown",
   "metadata": {},
   "source": [
    "###  • Conclusiones y trabajos futuros(Ejercicios)\n",
    "El agoritmo nos permite obtener los información mas relevante. "
   ]
  },
  {
   "cell_type": "markdown",
   "metadata": {},
   "source": [
    "### •\t                                                  SECCION 2 “ALGORITMO DE DETENCION DE LA COMUNIDAD”\n",
    "### LOUVAIN\n",
    "### Introducción\n",
    "\n",
    "Algoritmo para detectar comunidades en grandes redes. Maximiza una puntuación de modularidad para cada comunidad, donde el modularidad cuantifica la calidad de una asignación de nodos a las comunidades.\n",
    "Este algoritmo es de agrupamiento jerárquico, que fusiona comunidades de forma recursiva en un solo nodo y ejecuta el agrupamiento de modularidad en los gráficos condensados. \n",
    "\n",
    "### Descripción del algoritmo\n",
    "\n",
    "Los algoritmos de detección de comunidades cumplen con una función de gran importancia para el análisis de datos en grafos que contienen información compleja, Estos tomando en cuenta sus características, formas de relación y diferentes tipos de conexiones nos ayudan a establecer o determinar la existencia de comunidades complejas de datos.\n",
    "Dentro de este conjunto importante de algoritmos podemos contar el algoritmo de Louvain, el algoritmo de propagación de etiquetas y dos tipos interesantes de algoritmos orientados a estudiar diferentes tipos de grafos. Para entender el funcionamiento de grafos dirigidos contamos con el algoritmo de componentes fuertemente conectados y para grafos no dirigidos el algoritmo de componentes débilmente conectados.\n",
    "\n",
    "#### Lu, Hao, Mahantesh Halappanavar y Ananth Kalyanaraman \"Heurística paralela para la detección escalable de la comunidad\"\n",
    "\n",
    "La idea principal del algoritmo: comenzando con cada vértice en una comunidad separada, el algoritmo progresa de una iteración a otra hasta que la ganancia de modularidad se vuelve insignificante (según lo define un umbral predefinido). Para cada vértice i, se examinan todas sus comunidades vecinas y se calcula la ganancia de modularidad que resultaría si me mudara a cada una de esas comunidades vecinas de su comunidad actual.\n",
    "\n",
    "Después de que termina una fase, el algoritmo pasa a la siguiente fase al contraer todos los vértices de una comunidad en un solo \"meta-vértice\"; colocando un borde de ese meta-vértice a sí mismo con un peso de borde que es la suma de los pesos de todos los bordes intracomunitarios dentro de esa comunidad.\n",
    "\n",
    "El resultado es un gráfico condensado G0 (V 0, E0, ω0), que luego se convierte en la entrada a la siguiente fase.\n",
    "En cualquier iteración dada, dejemos que ∆Qi → C (j) denote la ganancia de modularidad que resultaría de mover un vértice i de su comunidad actual C (i) a una comunidad diferente C (j). Este término viene dado por:\n",
    "<img src=\"img/img5.png\">\n",
    "En consecuencia, la nueva asignación de comunidad para i en una iteración se determina de la siguiente manera:\n",
    "<img src=\"img/img6.png\">\n",
    "\n",
    "### Ejemplo Real\n",
    "\n",
    "**\"Desmitificar el algoritmo de Lovaina y su implementación en GPU\"**\n",
    "\n",
    "En esta sección, lo guiaré a través de los pasos de implementación del algoritmo de Louvain en la GPU CUDA RAPIDS instalada en Microsoft Azure.\n",
    "\n",
    "Referencia:\n",
    "\n",
    "https://medium.com/walmartlabs/demystifying-louvains-algorithm-and-its-implementation-in-gpu-9a07cdd3b010\n",
    "\n",
    "### Proceso (Paso a paso del uso del algoritmo)\n",
    "<img src=\"img/img8.png\">\n",
    "Según la definición de matriz de adyacencia que Aij explicó en las secciones anteriores, se verá como se muestra a continuación para este gráfico.\n",
    "<img src=\"img/img7.png\">\n",
    "\n",
    "Considere la asignación de partición como:\n",
    "\n",
    "partición 1 - 1, 3, 4\n",
    "\n",
    "partición 2– 2, 5\n",
    "\n",
    "Número de enlaces, m = 5\n",
    "\n",
    "ki, kj son el grado de los nodos respectivos (2 en nuestro ejemplo)\n",
    "\n",
    "d (x, y) es 0 si los nodos pertenecen a la misma partición, de lo contrario es 1.\n",
    "\n",
    "Usando las fórmulas de modularidad,\n",
    "\n",
    "Q = 1 / (2 * 5) ((0–2 * 2 / (2 * 5)) * 1 + # nodo 1 a 1 -> ausente, misma membresía\n",
    "\n",
    "(1–2 * 2 / (2 * 5)) * 0 + # nodo 1 a 2 -> presente, membresía diferente\n",
    "\n",
    "(0–2 * 2 / (2 * 5)) * 1 + # nodo 1 a 4 -> ausente, misma membresía\n",
    "\n",
    "(0–2 * 2 / (2 * 5)) * 0 + # nodo 1 a 5 -> presente, membresía diferente\n",
    "\n",
    "(1–2 * 2 / (2 * 5)) * 1 + # nodo 1 a 3 -> presente, misma membresía\n",
    "\n",
    "Continuar por el resto de la matriz eventualmente se simplifica a:\n",
    "\n",
    "Q = 1/10 (7 * (0–2 / 5) + 6 * (1–2 / 5)) = 4/50 = **0.08**\n",
    "\n",
    "### Ejemplo Sencillo\n",
    "\n",
    "Considere el gráfico creado por la siguiente declaración de Cypher:\n",
    "\n",
    "\n"
   ]
  },
  {
   "cell_type": "raw",
   "metadata": {},
   "source": [
    "CREATE (nAlice:User {name: 'Alice', seed: 42})\n",
    "CREATE (nBridget:User {name: 'Bridget', seed: 42})\n",
    "CREATE (nCharles:User {name: 'Charles', seed: 42})\n",
    "CREATE (nDoug:User {name: 'Doug'})\n",
    "CREATE (nMark:User {name: 'Mark'})\n",
    "CREATE (nMichael:User {name: 'Michael'})\n",
    "\n",
    "CREATE (nAlice)-[:LINK {weight: 1}]->(nBridget)\n",
    "CREATE (nAlice)-[:LINK {weight: 1}]->(nCharles)\n",
    "CREATE (nCharles)-[:LINK {weight: 1}]->(nBridget) \n",
    "CREATE (nAlice)-[:LINK {weight: 5}]->(nDoug) \n",
    "CREATE (nMark)-[:LINK {weight: 1}]->(nDoug)\n",
    "CREATE (nMark)-[:LINK {weight: 1}]->(nMichael)\n",
    "CREATE (nMichael)-[:LINK {weight: 1}]->(nMark);"
   ]
  },
  {
   "cell_type": "markdown",
   "metadata": {},
   "source": [
    "Este gráfico tiene dos grupos de usuarios, que están estrechamente conectados. Entre esos grupos hay un solo borde. \n",
    "\n",
    "La siguiente declaración creará el gráfico y lo almacenará en el catálogo de gráficos."
   ]
  },
  {
   "cell_type": "raw",
   "metadata": {},
   "source": [
    "# CALL gds.graph.create(\n",
    "    'myGraph',\n",
    "    'User',\n",
    "    {\n",
    "        LINK: {\n",
    "            orientation: 'UNDIRECTED'\n",
    "        }\n",
    "    },\n",
    "    {\n",
    "        nodeProperties: 'seed',\n",
    "        relationshipProperties: 'weight'\n",
    "    }\n",
    ")"
   ]
  },
  {
   "cell_type": "markdown",
   "metadata": {},
   "source": [
    "En los siguientes ejemplos demostraremos el uso del algoritmo de Lovaina en este gráfico.\n",
    "\n",
    "Lo siguiente ejecutará el algoritmo y los resultados de la transmisión:"
   ]
  },
  {
   "cell_type": "raw",
   "metadata": {},
   "source": [
    "CALL gds.louvain.stream('myGraph')\n",
    "YIELD nodeId, communityId, intermediateCommunityIds\n",
    "RETURN gds.util.asNode(nodeId).name AS name, communityId, intermediateCommunityIds\n",
    "ORDER BY name ASC"
   ]
  },
  {
   "cell_type": "markdown",
   "metadata": {},
   "source": [
    "<img src=\"img/img10.PNG\">\n",
    "\n",
    "Utilizamos valores predeterminados para el parámetro de configuración del procedimiento. Niveles y innerIterationsse establecen en 10 y el valor de tolerancia es 0.0001. Como no establecimos el valor de includeIntermediateCommunitiesto true, las comunidades de columnas siempre lo son null.\n"
   ]
  },
  {
   "cell_type": "markdown",
   "metadata": {},
   "source": [
    "###  • Ejemplificacion usando datos reales\n"
   ]
  },
  {
   "cell_type": "code",
   "execution_count": 25,
   "metadata": {},
   "outputs": [
    {
     "name": "stdout",
     "output_type": "stream",
     "text": [
      "<Record name='Arroz marinero' communityId=22 intermediateCommunityIds=[19, 22]>\n",
      "<Record name='Caldo de gallina criolla\\xa0' communityId=23 intermediateCommunityIds=[23, 23]>\n",
      "<Record name='Caldo de manguera' communityId=22 intermediateCommunityIds=[22, 22]>\n",
      "<Record name='Encebollado ecuatoriano de pescado' communityId=23 intermediateCommunityIds=[5, 23]>\n",
      "<Record name='Camarones o langostinos al ajillo' communityId=23 intermediateCommunityIds=[32, 23]>\n",
      "<Record name='Receta del chaulafan mixto ecuatoriano' communityId=23 intermediateCommunityIds=[5, 23]>\n",
      "<Record name='Lengua en salsa de maní' communityId=22 intermediateCommunityIds=[19, 22]>\n",
      "<Record name='Seco de Chancho Ecuatoriano' communityId=22 intermediateCommunityIds=[22, 22]>\n",
      "<Record name='Ceviche de camarón ' communityId=13 intermediateCommunityIds=[15, 13]>\n",
      "<Record name='Encocada, pescado y camarón' communityId=13 intermediateCommunityIds=[13, 13]>\n",
      "<Record name='Corviches' communityId=13 intermediateCommunityIds=[13, 13]>\n",
      "<Record name='Arroz con camarón ' communityId=13 intermediateCommunityIds=[13, 13]>\n",
      "<Record name='La TIMBUSHCA ' communityId=13 intermediateCommunityIds=[13, 13]>\n",
      "<Record name='La Carne Colorada ' communityId=13 intermediateCommunityIds=[13, 13]>\n",
      "<Record name='Mote Pata ' communityId=13 intermediateCommunityIds=[15, 13]>\n",
      "<Record name='Fritada Cuencana' communityId=13 intermediateCommunityIds=[15, 13]>\n",
      "<Record name='Tallarín de pollo ecuatoriano' communityId=23 intermediateCommunityIds=[23, 23]>\n",
      "<Record name='Receta del ceviche de conchas negras o prietas' communityId=22 intermediateCommunityIds=[22, 22]>\n",
      "<Record name='Maito de pescado' communityId=22 intermediateCommunityIds=[22, 22]>\n",
      "<Record name='Mote con chicharrón' communityId=22 intermediateCommunityIds=[19, 22]>\n",
      "<Record name='Receta de Chicha de chontaduro y yuca' communityId=36 intermediateCommunityIds=[25, 36]>\n",
      "<Record name='Empanadas de viento ecuatorianas' communityId=23 intermediateCommunityIds=[31, 23]>\n",
      "<Record name='Cazuela de pescado' communityId=22 intermediateCommunityIds=[22, 22]>\n",
      "<Record name='Quimbolitos Ecuatorianos' communityId=23 intermediateCommunityIds=[23, 23]>\n",
      "<Record name='Empanadas de verde con relleno de carne' communityId=36 intermediateCommunityIds=[33, 36]>\n",
      "<Record name='Tortillas de verde' communityId=36 intermediateCommunityIds=[25, 36]>\n",
      "<Record name='Patacones ecuatorianos' communityId=23 intermediateCommunityIds=[32, 23]>\n",
      "<Record name='Empanadas de morocho' communityId=23 intermediateCommunityIds=[31, 23]>\n",
      "<Record name='Tigrillo de Zaruma' communityId=22 intermediateCommunityIds=[28, 22]>\n",
      "<Record name='Yaguarlocro' communityId=36 intermediateCommunityIds=[25, 36]>\n",
      "<Record name='Pan de yuca' communityId=36 intermediateCommunityIds=[36, 36]>\n",
      "<Record name='Mote pillo cuencano' communityId=23 intermediateCommunityIds=[31, 23]>\n",
      "<Record name='Ceviche de palmito' communityId=23 intermediateCommunityIds=[32, 23]>\n",
      "<Record name='Ceviche de caracol' communityId=36 intermediateCommunityIds=[33, 36]>\n",
      "<Record name='Pinchos Mayones.' communityId=22 intermediateCommunityIds=[28, 22]>\n",
      "<Record name='Seco de Guanta' communityId=22 intermediateCommunityIds=[19, 22]>\n",
      "<Record name='Mote con chicharrón' communityId=36 intermediateCommunityIds=[36, 36]>\n",
      "<Record name='Caldo de cangrejo' communityId=23 intermediateCommunityIds=[31, 23]>\n"
     ]
    },
    {
     "data": {
      "text/plain": [
       "'Seco de Chancho Ecuatoriano'"
      ]
     },
     "execution_count": 25,
     "metadata": {},
     "output_type": "execute_result"
    }
   ],
   "source": [
    "from neo4j import GraphDatabase\n",
    "uri = \"bolt://35.184.105.166:7687\"\n",
    "driver = GraphDatabase.driver(uri, auth=(\"neo4j\", \"admin\"),encrypted=False)\n",
    "\n",
    "resultado=[]\n",
    "parques = []\n",
    "centralidad = []\n",
    "def get_mo(tx):\n",
    "    result = tx.run(\"CALL gds.louvain.stream({nodeProjection: 'Plato', \"\n",
    "                    \"relationshipProjection: {\"\n",
    "                    \"TYPE:{\"\n",
    "                    \"type: 'LINK', \"\n",
    "                    \"orientation: 'undirected',\"\n",
    "                    \"aggregation: 'NONE'\"\n",
    "                    \"}\"\n",
    "                    \"},\"\n",
    "                    \"includeIntermediateCommunities: true\"\n",
    "                    \"})YIELD nodeId, communityId, intermediateCommunityIds \"\n",
    "                    \"RETURN gds.util.asNode(nodeId).name AS name, communityId, intermediateCommunityIds\")\n",
    "    for record in result:\n",
    "        print(record)\n",
    "        parques.append(record[\"name\"])\n",
    "        centralidad.append(record[\"communityId\"])\n",
    "\n",
    "def recibirL():\n",
    "    with driver.session() as session:\n",
    "        ciudades = session.read_transaction(get_mo)\n",
    "        for i in range(len(parques)):\n",
    "            resultado=parques[7]\n",
    "    return resultado\n",
    "recibirL()"
   ]
  },
  {
   "cell_type": "markdown",
   "metadata": {},
   "source": [
    "###  • Resultados y analisis.\n",
    "Para esta solución se utiliza el algoritmo LOUVAIN el cual nos brinda el nodo con los mayores vecinos, para ello se carga una base de datos con la información de los platos."
   ]
  },
  {
   "cell_type": "markdown",
   "metadata": {},
   "source": [
    "###  • Mejoras y recomendaciones(Material adicional o refuerzo del algoritmo).\n",
    ".Como una recomendacion general en este algoritmo los podemos emplear para que un futuro con una mejor consulta poder hacer un algoritmo se pueda inclusive poder utilizar para la recomendacion en lugares donde la gente acude con su familia a realizar la compra de viveres , entonces para conocer el plato más vendido por listado de víveres."
   ]
  },
  {
   "cell_type": "markdown",
   "metadata": {},
   "source": [
    "###  • Conclusiones y trabajos futuros(Ejercicios)\n",
    "El desarrollo del algoritmo nos ayuda a encnotrar los lugares mas cercanos dentro de una comunidad."
   ]
  },
  {
   "cell_type": "markdown",
   "metadata": {},
   "source": [
    "\n",
    "## REFERENCIAS\n",
    "https://neo4j.com/docs/graph-data-science/current/alpha-algorithms/approximate-nearest-neighbors/\n",
    "https://www.jacobsoft.com.mx/es_mx/k-nearest-neighbors/\n",
    "https://www.grapheverywhere.com/algoritmo-de-similaridad-de-jaccard/\n",
    "https://es.wikipedia.org/wiki/Paul_Jaccard\n",
    "https://rstudio-pubs-static.s3.amazonaws.com/594708_fa8a351036084709b625b361d39eb06b.html\n",
    "http://cybertesis.unmsm.edu.pe/bitstream/handle/cybertesis/6201/Quezada_ln.pdf?sequence=3&isAllowed=y\n",
    "https://www.grapheverywhere.com/machine-learning-y-grafos-todo-lo-que-debes-saber/\n",
    "https://www.grapheverywhere.com/wp-content/uploads/2020/01/eBook-Machine-Learning-y-Grafos-Todo-lo-que-debes-saber.pdf\n",
    "https://www.jacobsoft.com.mx/es_mx/k-nearest-neighbors/\n",
    "https://help.netflix.com/es/node/100639\n",
    "https://es.khanacademy.org/computing/computer-science/algorithms/breadth-first-search/a/breadth-first-search-and-its-uses\n",
    "https://neo4j.com/docs/operations-manual/current/installation/linux/debian/ \n",
    " \n",
    " "
   ]
  },
  {
   "cell_type": "code",
   "execution_count": null,
   "metadata": {},
   "outputs": [],
   "source": []
  },
  {
   "cell_type": "code",
   "execution_count": null,
   "metadata": {},
   "outputs": [],
   "source": []
  }
 ],
 "metadata": {
  "kernelspec": {
   "display_name": "Python 3",
   "language": "python",
   "name": "python3"
  },
  "language_info": {
   "codemirror_mode": {
    "name": "ipython",
    "version": 3
   },
   "file_extension": ".py",
   "mimetype": "text/x-python",
   "name": "python",
   "nbconvert_exporter": "python",
   "pygments_lexer": "ipython3",
   "version": "3.7.6"
  },
  "pycharm": {
   "stem_cell": {
    "cell_type": "raw",
    "metadata": {
     "collapsed": false
    },
    "source": []
   }
  }
 },
 "nbformat": 4,
 "nbformat_minor": 2
}
