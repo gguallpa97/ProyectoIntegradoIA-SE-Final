{
 "cells": [
  {
   "cell_type": "code",
   "execution_count": 1,
   "metadata": {},
   "outputs": [],
   "source": [
    "### METODO PARA TRADUCIR \n",
    "from ibm_cloud_sdk_core.authenticators import IAMAuthenticator\n",
    "from ibm_watson import LanguageTranslatorV3\n",
    "\n",
    "authenticator = IAMAuthenticator('In3r0-dDlor3CtpyZNIZGk7gzgradLVUYU9lS7EknPGU')\n",
    "language_translator = LanguageTranslatorV3(\n",
    "    version='2018-05-01',\n",
    "    authenticator=authenticator\n",
    ")\n",
    "\n",
    "language_translator.set_service_url('https://api.us-south.language-translator.watson.cloud.ibm.com/instances/9472bba7-295e-45cf-98d3-8582c07615e6')\n"
   ]
  },
  {
   "cell_type": "code",
   "execution_count": 2,
   "metadata": {},
   "outputs": [],
   "source": [
    "### NATURAL LANGUAGE UNDERSTANDING\n",
    "import json\n",
    "from ibm_watson import NaturalLanguageUnderstandingV1\n",
    "from ibm_watson.natural_language_understanding_v1 import Features, EntitiesOptions,EmotionOptions, KeywordsOptions,MetadataOptions, RelationsOptions, CategoriesOptions, ConceptsOptions, SemanticRolesOptions, SentimentOptions, SyntaxOptions, SyntaxOptionsTokens\n",
    "from ibm_cloud_sdk_core.authenticators import IAMAuthenticator\n",
    "\n",
    "authenticator = IAMAuthenticator('r7Wm41T8suQL4T4JEDASW3g7iJxEhe-jpTB84KMdBl1A')\n",
    "service = NaturalLanguageUnderstandingV1(\n",
    "     version='2018-03-16',\n",
    "     authenticator=authenticator)\n",
    "service.set_service_url('https://api.us-south.natural-language-understanding.watson.cloud.ibm.com/instances/c54f98e9-4089-4a5b-8ea8-29f7cb6f786f')"
   ]
  },
  {
   "cell_type": "code",
   "execution_count": 3,
   "metadata": {},
   "outputs": [],
   "source": [
    "def tipoLenguaje(mensaje):\n",
    "    language = language_translator.identify(\n",
    "        mensaje).get_result()\n",
    "    r= json.dumps(language, indent=2)\n",
    "    rp= json.loads(r)\n",
    "    return rp[\"languages\"][0][\"language\"]\n",
    "\n",
    "def metodoTraducir(mensaje):\n",
    "    tam=tipoLenguaje(mensaje)\n",
    "    if(tam == \"fr\" or tam==\"ca\" or tam==\"en\"):\n",
    "        print(\"Idioma: \",tam)\n",
    "        translation = language_translator.translate(\n",
    "        text=mensaje,\n",
    "        model_id=tam+\"-es\").get_result()\n",
    "        r= json.dumps(translation, indent=2)\n",
    "        rp= json.loads(r)\n",
    "        return rp[\"translations\"][0][\"translation\"],tam\n",
    "    else:\n",
    "        return mensaje,\"es\"\n",
    "\n",
    "def traducirTexto(mensaje,tam):\n",
    "    if(tam ==\"fr\" or tam==\"ca\" or tam==\"en\"):\n",
    "        translation = language_translator.translate(\n",
    "        text=mensaje,\n",
    "        model_id=\"es-\"+tam).get_result()\n",
    "        r= json.dumps(translation, indent=2)\n",
    "        rp= json.loads(r)\n",
    "        return rp[\"translations\"][0][\"translation\"]\n",
    "    else:\n",
    "        return mensaje"
   ]
  },
  {
   "cell_type": "code",
   "execution_count": null,
   "metadata": {},
   "outputs": [],
   "source": []
  },
  {
   "cell_type": "code",
   "execution_count": null,
   "metadata": {},
   "outputs": [
    {
     "name": "stdout",
     "output_type": "stream",
     "text": [
      " * Serving Flask app \"__main__\" (lazy loading)\n",
      " * Environment: production\n",
      "   WARNING: This is a development server. Do not use it in a production deployment.\n",
      "   Use a production WSGI server instead.\n",
      " * Debug mode: off\n"
     ]
    },
    {
     "name": "stderr",
     "output_type": "stream",
     "text": [
      " * Running on http://127.0.0.1:5000/ (Press CTRL+C to quit)\n"
     ]
    },
    {
     "name": "stdout",
     "output_type": "stream",
     "text": [
      "menu\n",
      " SOY ARREGLO\n",
      "['menu']\n",
      "menu\n"
     ]
    },
    {
     "name": "stderr",
     "output_type": "stream",
     "text": [
      "127.0.0.1 - - [11/Aug/2020 18:33:58] \"\u001b[37mPOST / HTTP/1.1\u001b[0m\" 200 -\n"
     ]
    },
    {
     "name": "stdout",
     "output_type": "stream",
     "text": [
      "hello\n",
      " SOY ARREGLO\n",
      "['hello']\n",
      "hello\n",
      "Idioma:  en\n"
     ]
    },
    {
     "name": "stderr",
     "output_type": "stream",
     "text": [
      "127.0.0.1 - - [11/Aug/2020 18:34:12] \"\u001b[37mPOST / HTTP/1.1\u001b[0m\" 200 -\n"
     ]
    },
    {
     "name": "stdout",
     "output_type": "stream",
     "text": [
      "ceviche de prawn\n",
      " SOY ARREGLO\n",
      "['ceviche de prawn']\n",
      "ceviche de prawn\n",
      "Idioma:  fr\n"
     ]
    },
    {
     "name": "stderr",
     "output_type": "stream",
     "text": [
      "127.0.0.1 - - [11/Aug/2020 18:34:31] \"\u001b[37mPOST / HTTP/1.1\u001b[0m\" 200 -\n"
     ]
    },
    {
     "name": "stdout",
     "output_type": "stream",
     "text": [
      "Recette Ceviche\n",
      " SOY ARREGLO\n",
      "['Recette Ceviche']\n",
      "Recette Ceviche\n"
     ]
    },
    {
     "name": "stderr",
     "output_type": "stream",
     "text": [
      "127.0.0.1 - - [11/Aug/2020 18:34:53] \"\u001b[37mPOST / HTTP/1.1\u001b[0m\" 200 -\n"
     ]
    },
    {
     "name": "stdout",
     "output_type": "stream",
     "text": [
      "menu\n",
      " SOY ARREGLO\n",
      "['menu']\n",
      "menu\n"
     ]
    },
    {
     "name": "stderr",
     "output_type": "stream",
     "text": [
      "127.0.0.1 - - [11/Aug/2020 18:36:35] \"\u001b[37mPOST / HTTP/1.1\u001b[0m\" 200 -\n"
     ]
    },
    {
     "name": "stdout",
     "output_type": "stream",
     "text": [
      "hello\n",
      " SOY ARREGLO\n",
      "['hello']\n",
      "hello\n",
      "Idioma:  en\n"
     ]
    },
    {
     "name": "stderr",
     "output_type": "stream",
     "text": [
      "127.0.0.1 - - [11/Aug/2020 18:36:48] \"\u001b[37mPOST / HTTP/1.1\u001b[0m\" 200 -\n"
     ]
    },
    {
     "name": "stdout",
     "output_type": "stream",
     "text": [
      "ceviche de prawn\n",
      " SOY ARREGLO\n",
      "['ceviche de prawn']\n",
      "ceviche de prawn\n",
      "Idioma:  fr\n"
     ]
    },
    {
     "name": "stderr",
     "output_type": "stream",
     "text": [
      "127.0.0.1 - - [11/Aug/2020 18:37:02] \"\u001b[37mPOST / HTTP/1.1\u001b[0m\" 200 -\n"
     ]
    },
    {
     "name": "stdout",
     "output_type": "stream",
     "text": [
      "recette ceviche\n",
      " SOY ARREGLO\n",
      "['recette ceviche']\n",
      "recette ceviche\n"
     ]
    },
    {
     "name": "stderr",
     "output_type": "stream",
     "text": [
      "127.0.0.1 - - [11/Aug/2020 18:37:17] \"\u001b[37mPOST / HTTP/1.1\u001b[0m\" 200 -\n"
     ]
    },
    {
     "name": "stdout",
     "output_type": "stream",
     "text": [
      "hello\n",
      " SOY ARREGLO\n",
      "['hello']\n",
      "hello\n",
      "Idioma:  en\n"
     ]
    },
    {
     "name": "stderr",
     "output_type": "stream",
     "text": [
      "127.0.0.1 - - [11/Aug/2020 18:37:46] \"\u001b[37mPOST / HTTP/1.1\u001b[0m\" 200 -\n"
     ]
    },
    {
     "name": "stdout",
     "output_type": "stream",
     "text": [
      "good morning\n",
      " SOY ARREGLO\n",
      "['good morning']\n",
      "good morning\n",
      "Idioma:  en\n"
     ]
    },
    {
     "name": "stderr",
     "output_type": "stream",
     "text": [
      "127.0.0.1 - - [11/Aug/2020 18:38:03] \"\u001b[37mPOST / HTTP/1.1\u001b[0m\" 200 -\n"
     ]
    },
    {
     "name": "stdout",
     "output_type": "stream",
     "text": [
      "https://www.yachaytech.edu.ec/\n",
      " SOY ARREGLO\n",
      "['https://www.yachaytech.edu.ec/']\n",
      "Aseguramiento de la calidad\n",
      "{\n",
      "  \"usage\": {\n",
      "    \"text_units\": 1,\n",
      "    \"text_characters\": 619,\n",
      "    \"features\": 1\n",
      "  },\n",
      "  \"retrieved_url\": \"https://www.yachaytech.edu.ec/\",\n",
      "  \"language\": \"es\",\n",
      "  \"concepts\": [\n",
      "    {\n",
      "      \"text\": \"Aseguramiento de la calidad\",\n",
      "      \"relevance\": 0.897894,\n",
      "      \"dbpedia_resource\": \"http://es.dbpedia.org/resource/Aseguramiento_de_la_calidad\"\n",
      "    }\n",
      "  ]\n",
      "}\n"
     ]
    },
    {
     "name": "stderr",
     "output_type": "stream",
     "text": [
      "127.0.0.1 - - [11/Aug/2020 18:44:33] \"\u001b[37mPOST / HTTP/1.1\u001b[0m\" 200 -\n"
     ]
    },
    {
     "name": "stdout",
     "output_type": "stream",
     "text": [
      "hello\n",
      " SOY ARREGLO\n",
      "['hello']\n",
      "hello\n",
      "Idioma:  en\n"
     ]
    },
    {
     "name": "stderr",
     "output_type": "stream",
     "text": [
      "127.0.0.1 - - [11/Aug/2020 18:49:37] \"\u001b[37mPOST / HTTP/1.1\u001b[0m\" 200 -\n"
     ]
    },
    {
     "name": "stdout",
     "output_type": "stream",
     "text": [
      "mas recetas\n",
      " SOY ARREGLO\n",
      "['mas recetas']\n",
      "mas recetas\n"
     ]
    },
    {
     "name": "stderr",
     "output_type": "stream",
     "text": [
      "127.0.0.1 - - [11/Aug/2020 18:49:47] \"\u001b[37mPOST / HTTP/1.1\u001b[0m\" 200 -\n"
     ]
    },
    {
     "name": "stdout",
     "output_type": "stream",
     "text": [
      "18.\n",
      " SOY ARREGLO\n",
      "['18.']\n",
      "18.\n",
      "Idioma:  en\n"
     ]
    },
    {
     "name": "stderr",
     "output_type": "stream",
     "text": [
      "127.0.0.1 - - [11/Aug/2020 18:50:02] \"\u001b[37mPOST / HTTP/1.1\u001b[0m\" 200 -\n"
     ]
    }
   ],
   "source": [
    "#Importar librerias\n",
    "#from ibm_cloud_sdk_core.api_exception import ApiException\n",
    "import json\n",
    "import requests\n",
    "\n",
    "import random\n",
    "from flask import Flask, request\n",
    "from pymessenger.bot import Bot\n",
    "\n",
    "\n",
    "import json\n",
    "from ibm_watson import AssistantV2\n",
    "from ibm_cloud_sdk_core.authenticators import IAMAuthenticator\n",
    "import mysql.connector\n",
    "from clips import Environment, Symbol\n",
    "    \n",
    "import mysql.connector\n",
    "\n",
    "from clips import Environment, Symbol\n",
    "\n",
    "import re\n",
    "#//////////////////////////////////////////////////////////////////////////////////////////////////////////////////////////\n",
    "#!pip install twilio\n",
    "from twilio.rest import Client\n",
    "from flask import Flask, request\n",
    "import json\n",
    "\n",
    "app = Flask(__name__)\n",
    "account_sid = 'AC8b9881b9c2ab6bc02eadef337e1b9709'\n",
    "auth_token = 'ee3563f8cd5b7250680c466d30efaa1c'\n",
    "client = Client(account_sid, auth_token)\n",
    "\n",
    "def enviar(mensaje):\n",
    "    message = client.messages.create(\n",
    "                              body=mensaje,\n",
    "                              from_='whatsapp:+14155238886',\n",
    "                              to='whatsapp:+593963322341'\n",
    "                          )\n",
    "    return message\n",
    "\n",
    "##########################################################################################################################\n",
    "\n",
    "from neo4j import GraphDatabase\n",
    "\n",
    "uri = \"bolt://35.184.105.166:7687\"\n",
    "driver = GraphDatabase.driver(uri, auth=(\"neo4j\", \"admin\"),encrypted=False)\n",
    "\n",
    "result=[]\n",
    "parques = []\n",
    "centralidad = []\n",
    "def get_mo(tx):\n",
    "    result = tx.run(\"CALL gds.alpha.closeness.stream({nodeProjection: 'Plato', \"\n",
    "                    \"relationshipProjection: 'LINK' })\"\n",
    "                    \"YIELD nodeId, centrality \"\n",
    "                    \"RETURN gds.util.asNode(nodeId).name AS user, centrality \"\n",
    "                    \"ORDER BY centrality DESC\")\n",
    "    for record in result:\n",
    "        #print(record)\n",
    "        parques.append(record[\"user\"])\n",
    "        centralidad.append(record[\"centrality\"])\n",
    "\n",
    "def recibir():\n",
    "    with driver.session() as session:\n",
    "        ciudades = session.read_transaction(get_mo)\n",
    "        #print(ciudades)\n",
    "        #print(\"Solución\")\n",
    "        #print(\"Nodo -> Centralidad\")\n",
    "        for i in range(len(parques)):\n",
    "            result=parques[0]\n",
    "            #print(parques[0])\n",
    "            #print(parques[1], \" -> \", centralidad[1])\n",
    "            #print(parques[2], \" -> \", centralidad[2])\n",
    "    #driver.close()\n",
    "    #print(result)\n",
    "    return result\n",
    "\n",
    "#print(recibir())\n",
    "#//////////////////////////////////////////////////////////////////////////////////////////////////////////////////////////\n",
    "def Find(string): \n",
    "    regex = r\"(?i)\\b((?:https?://|www\\d{0,3}[.]|[a-z0-9.\\-]+[.][a-z]{2,4}/)(?:[^\\s()<>]+|\\(([^\\s()<>]+|(\\([^\\s()<>]+\\)))*\\))+(?:\\(([^\\s()<>]+|(\\([^\\s()<>]+\\)))*\\)|[^\\s`!()\\[\\]{};:'\\\".,<>?«»“”‘’]))\"\n",
    "    url = re.findall(regex,string)     \n",
    "    for x in url:\n",
    "        return x[0]\n",
    "    \n",
    "#//////////////////////////////////////////////////////////////////////////////////////////////////////////////////////////\n",
    "\n",
    "uri = \"bolt://35.184.105.166:7687\"\n",
    "driver = GraphDatabase.driver(uri, auth=(\"neo4j\", \"admin\"),encrypted=False)\n",
    "\n",
    "resultado=[]\n",
    "parques = []\n",
    "centralidad = []\n",
    "def get_mo(tx):\n",
    "    result = tx.run(\"CALL gds.louvain.stream({nodeProjection: 'Plato', \"\n",
    "                    \"relationshipProjection: {\"\n",
    "                    \"TYPE:{\"\n",
    "                    \"type: 'LINK', \"\n",
    "                    \"orientation: 'undirected',\"\n",
    "                    \"aggregation: 'NONE'\"\n",
    "                    \"}\"\n",
    "                    \"},\"\n",
    "                    \"includeIntermediateCommunities: true\"\n",
    "                    \"})YIELD nodeId, communityId, intermediateCommunityIds \"\n",
    "                    \"RETURN gds.util.asNode(nodeId).name AS name, communityId, intermediateCommunityIds\")\n",
    "    for record in result:\n",
    "        #print(record)\n",
    "        parques.append(record[\"name\"])\n",
    "        centralidad.append(record[\"communityId\"])\n",
    "\n",
    "def recibirL():\n",
    "    with driver.session() as session:\n",
    "        ciudades = session.read_transaction(get_mo)\n",
    "        #print(\"Solución\")\n",
    "        #print(\"Nodo -> Centralidad\")\n",
    "        for i in range(len(parques)):\n",
    "            #resultado=parques[i]\n",
    "            resultado=parques[7]\n",
    "            #print(parques[i], \" -> \", centralidad[i])    \n",
    "    #print(resultado)        \n",
    "    #driver.close()\n",
    "    return resultado\n",
    "#######################################################################################################################\n",
    "##Consumo del Asitente de Watson\n",
    "def get_message(mensaje):\n",
    "    res=''\n",
    "    aux=True\n",
    "    if(mensaje == \"cotizado\" or mensaje == \"plato mas cotizado\" or mensaje == \"plato cotizado\"):\n",
    "        #print('holas')\n",
    "        cercania=len(recibir())\n",
    "        print(cercania)\n",
    "        if(cercania == 14):\n",
    "            aux=False\n",
    "            return \" El plato mas cotizado es: \" + str(recibir()) + \" Escriba Receta \\\"\" + str(recibir()) + \"\\\"\"  \n",
    "    if(mensaje == \"vendido\" or mensaje == \"plato mas vendido\" or mensaje == \"plato vendido\"):\n",
    "        #print('aui')\n",
    "        louvain=len(recibirL())\n",
    "        print(louvain)\n",
    "        if(louvain == 27):\n",
    "            aux=False\n",
    "            return \"El plato mas vendido es: \" + str(recibirL()) + \" Escriba Receta \\\"\" + str(recibirL()) + \"\\\"\"\n",
    "    print(mensaje)\n",
    "    lst=mensaje.split(',')\n",
    "    print(\" SOY ARREGLO\")\n",
    "    print(lst)\n",
    "    verificar=Find(mensaje)\n",
    "    if(verificar != None):\n",
    "        response = service.analyze(\n",
    "        url=verificar,\n",
    "        features=Features(concepts=ConceptsOptions())).get_result()\n",
    "        jsonData = json.dumps(response, indent=2)\n",
    "        jsonToPython = json.loads(jsonData)\n",
    "        #v = jsonToPython[\"output\"]\n",
    "        v = jsonToPython[\"concepts\"]\n",
    "        res1 = v[0]['text']\n",
    "        print(res1)\n",
    "        print(json.dumps(response, indent=2))\n",
    "        aux=False\n",
    "        return \" El concepto mas relevante de la pagina es: \" + str(res1)\n",
    "    print(mensaje)\n",
    "    mensaje=metodoTraducir(mensaje)\n",
    "    authenticator = IAMAuthenticator('cZrTUNTebpncIkhsSC0kR-HyNx9cNmKsrtfW_2vyJXPd')\n",
    "    assistant = AssistantV2(\n",
    "    version='2020-04-01',\n",
    "    authenticator = authenticator\n",
    "    )\n",
    "    assistant.set_service_url('https://api.us-south.assistant.watson.cloud.ibm.com/instances/dcc4a58c-6f8d-4736-a997-41604c06f7a2')\n",
    "    session = assistant.create_session(\n",
    "    assistant_id='9d7b4d15-3e32-4abe-a852-c691b36ce04d'\n",
    "    ).get_result()\n",
    "    message = assistant.message(\n",
    "    '9d7b4d15-3e32-4abe-a852-c691b36ce04d',\n",
    "    session['session_id'],\n",
    "    input={\n",
    "        'message_type': 'text',\n",
    "        'text': \"'\"+mensaje[0]+\"'\"\n",
    "        #'text': \"'\"+mensaje+\"'\"\n",
    "    }\n",
    "    ).get_result()   \n",
    "    jsonData = json.dumps(message, indent=2)\n",
    "    jsonToPython = json.loads(jsonData)\n",
    "    v = jsonToPython[\"output\"]\n",
    "    res = v['generic'][0]['text']\n",
    "    #return res\n",
    "    return traducirTexto(res,mensaje[1])\n",
    "\n",
    "\n",
    "\n",
    "@app.route(\"/\", methods=['GET', 'POST'])\n",
    "def receive_message():\n",
    "    tt=''\n",
    "    if request.method == 'GET':\n",
    "        print('Inicio')\n",
    "        mensaje = 'Mensaje Inicio APP'\n",
    "        message = enviar(mensaje)\n",
    "        tt = message.sid\n",
    "    else:\n",
    "        num = request.form['From']\n",
    "        texto = request.form['Body']\n",
    "        try:\n",
    "            texto_respuesta=get_message(texto)\n",
    "        except KeyError:\n",
    "            texto_respuesta=\"No le entendido\"\n",
    "        message = enviar(texto_respuesta)\n",
    "        tt = message.sid\n",
    "    return tt\n",
    "if __name__ == \"__main__\":\n",
    "    app.run()\n",
    "    \n",
    "    "
   ]
  },
  {
   "cell_type": "code",
   "execution_count": null,
   "metadata": {},
   "outputs": [],
   "source": []
  },
  {
   "cell_type": "code",
   "execution_count": null,
   "metadata": {},
   "outputs": [],
   "source": []
  }
 ],
 "metadata": {
  "kernelspec": {
   "display_name": "Python 3",
   "language": "python",
   "name": "python3"
  },
  "language_info": {
   "codemirror_mode": {
    "name": "ipython",
    "version": 3
   },
   "file_extension": ".py",
   "mimetype": "text/x-python",
   "name": "python",
   "nbconvert_exporter": "python",
   "pygments_lexer": "ipython3",
   "version": "3.7.6"
  }
 },
 "nbformat": 4,
 "nbformat_minor": 4
}
